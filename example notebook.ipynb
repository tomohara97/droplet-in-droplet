{
 "cells": [
  {
   "attachments": {},
   "cell_type": "markdown",
   "metadata": {},
   "source": [
    "## analysis\n",
    "example"
   ]
  },
  {
   "cell_type": "code",
   "execution_count": 1,
   "metadata": {},
   "outputs": [],
   "source": [
    "lif_file = '' # path to the LIF file\n",
    "from lif_metadata import LIFProcessor\n",
    "LIFProcessor(lif_file).show_metadata()\n",
    "\n",
    "from show_stack import SceneSelector, ImageViewer\n",
    "selector = SceneSelector(lif_file)\n",
    "selector.display()"
   ]
  },
  {
   "cell_type": "code",
   "execution_count": 3,
   "metadata": {},
   "outputs": [],
   "source": [
    "last_frame = 48\n",
    "image_merger = ImageViewer(lif_file, selector)\n",
    "image_merger.show_subplots(frame=last_frame, show_chs=[0,1])\n",
    "#image_merger.show_subplots(frame=last_frame, show_chs=[2])"
   ]
  },
  {
   "cell_type": "code",
   "execution_count": null,
   "metadata": {},
   "outputs": [],
   "source": [
    "%%time\n",
    "\n",
    "from set_roi import core_shell_analysis\n",
    "positions2analyze = [9,10,11,15,16,17]\n",
    "frames2analyze_test = range(36)\n",
    "set_roi_class = core_shell_analysis(lif_file, \n",
    "                                   cell_ROIch=1, cell_isInverted=True,\n",
    "                                   core_ROIch=0, core_isInverted=False,\n",
    "                                   positions_for_test=positions2analyze, \n",
    "                                   #frames_for_test=frames2analyze_test,\n",
    "                                   save_markers=True\n",
    "                      )\n",
    "df = set_roi_class.get_result_df(sampling=True, sampling_num=1, \n",
    "                                        kernel_size_for_opening_cell=2, opening_iterations_cell=2,\n",
    "                                        kernel_size_for_core=3, dialte_iterations_for_core=0, erosion_iterations_for_core=0)"
   ]
  },
  {
   "attachments": {},
   "cell_type": "markdown",
   "metadata": {},
   "source": []
  }
 ],
 "metadata": {
  "kernelspec": {
   "display_name": "env_aicsimage",
   "language": "python",
   "name": "python3"
  },
  "language_info": {
   "codemirror_mode": {
    "name": "ipython",
    "version": 3
   },
   "file_extension": ".py",
   "mimetype": "text/x-python",
   "name": "python",
   "nbconvert_exporter": "python",
   "pygments_lexer": "ipython3",
   "version": "3.11.4"
  },
  "orig_nbformat": 4
 },
 "nbformat": 4,
 "nbformat_minor": 2
}
